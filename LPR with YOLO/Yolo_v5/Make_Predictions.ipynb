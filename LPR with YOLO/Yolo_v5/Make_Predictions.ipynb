{
 "cells": [
  {
   "cell_type": "code",
   "execution_count": 1,
   "id": "5ebabc7a",
   "metadata": {},
   "outputs": [],
   "source": [
    "import cv2\n",
    "import numpy as np\n",
    "import os\n",
    "import pytesseract as pt"
   ]
  },
  {
   "cell_type": "code",
   "execution_count": 2,
   "id": "5b8fddd6",
   "metadata": {},
   "outputs": [],
   "source": [
    "# settings\n",
    "INPUT_WIDTH = 640\n",
    "INPUT_HEIGHT = 640"
   ]
  },
  {
   "cell_type": "code",
   "execution_count": 3,
   "id": "10dba39c",
   "metadata": {},
   "outputs": [
    {
     "ename": "KeyboardInterrupt",
     "evalue": "",
     "output_type": "error",
     "traceback": [
      "\u001b[1;31m---------------------------------------------------------------------------\u001b[0m",
      "\u001b[1;31mKeyboardInterrupt\u001b[0m                         Traceback (most recent call last)",
      "\u001b[1;32m~\\AppData\\Local\\Temp\\ipykernel_20632\\2318177735.py\u001b[0m in \u001b[0;36m<module>\u001b[1;34m\u001b[0m\n\u001b[0;32m      4\u001b[0m \u001b[0mcv2\u001b[0m\u001b[1;33m.\u001b[0m\u001b[0mnamedWindow\u001b[0m\u001b[1;33m(\u001b[0m\u001b[1;34m'test image'\u001b[0m\u001b[1;33m,\u001b[0m \u001b[0mcv2\u001b[0m\u001b[1;33m.\u001b[0m\u001b[0mWINDOW_KEEPRATIO\u001b[0m\u001b[1;33m)\u001b[0m\u001b[1;33m\u001b[0m\u001b[1;33m\u001b[0m\u001b[0m\n\u001b[0;32m      5\u001b[0m \u001b[0mcv2\u001b[0m\u001b[1;33m.\u001b[0m\u001b[0mimshow\u001b[0m\u001b[1;33m(\u001b[0m\u001b[1;34m'test image'\u001b[0m\u001b[1;33m,\u001b[0m \u001b[0mimg\u001b[0m\u001b[1;33m)\u001b[0m\u001b[1;33m\u001b[0m\u001b[1;33m\u001b[0m\u001b[0m\n\u001b[1;32m----> 6\u001b[1;33m \u001b[0mcv2\u001b[0m\u001b[1;33m.\u001b[0m\u001b[0mwaitKey\u001b[0m\u001b[1;33m(\u001b[0m\u001b[1;33m)\u001b[0m\u001b[1;33m\u001b[0m\u001b[1;33m\u001b[0m\u001b[0m\n\u001b[0m\u001b[0;32m      7\u001b[0m \u001b[0mcv2\u001b[0m\u001b[1;33m.\u001b[0m\u001b[0mdestroyAllWindows\u001b[0m\u001b[1;33m(\u001b[0m\u001b[1;33m)\u001b[0m\u001b[1;33m\u001b[0m\u001b[1;33m\u001b[0m\u001b[0m\n",
      "\u001b[1;31mKeyboardInterrupt\u001b[0m: "
     ]
    }
   ],
   "source": [
    "# Load the image\n",
    "img = cv2.imread('./test_images/4940_6-IMG_5905.jpg')\n",
    "\n",
    "cv2.namedWindow('test image', cv2.WINDOW_KEEPRATIO)\n",
    "cv2.imshow('test image', img)\n",
    "cv2.waitKey()\n",
    "cv2.destroyAllWindows()"
   ]
  },
  {
   "cell_type": "code",
   "execution_count": 4,
   "id": "922f0528",
   "metadata": {},
   "outputs": [],
   "source": [
    "# Load YOLO model\n",
    "net = cv2.dnn.readNetFromONNX('./Model/weights/best.onnx')\n",
    "net.setPreferableBackend(cv2.dnn.DNN_BACKEND_OPENCV)\n",
    "net.setPreferableTarget(cv2.dnn.DNN_TARGET_CPU)"
   ]
  },
  {
   "cell_type": "code",
   "execution_count": 6,
   "id": "dd8430da",
   "metadata": {},
   "outputs": [],
   "source": [
    "def get_detections(img, net):\n",
    "    # Convert image to YOLO format\n",
    "    image = img.copy()\n",
    "    row, col, d = image.shape\n",
    "\n",
    "    max_rc = max(row, col)\n",
    "    input_image = np.zeros((max_rc, max_rc, 3), dtype=np.uint8)\n",
    "    input_image[0 : row, 0 : col] = image\n",
    "\n",
    "    # Get prediction from YOLO model\n",
    "    blob = cv2.dnn.blobFromImage(input_image, 1/255, (INPUT_WIDTH, INPUT_HEIGHT), swapRB = True, crop = False)\n",
    "    net.setInput(blob)\n",
    "    preds = net.forward()\n",
    "    detections = preds[0]\n",
    "    \n",
    "    return input_image, detections\n",
    "\n",
    "def non_maximum_supression(input_image, detections):\n",
    "    # Filter detections based on confidence and probability score\n",
    "    # center x, center y, w, h, conf, proba\n",
    "    boxes = []\n",
    "    confidences = []\n",
    "\n",
    "    image_w, image_h = input_image.shape[:2]\n",
    "    x_factor = image_w / INPUT_WIDTH\n",
    "    y_factor = image_h / INPUT_HEIGHT\n",
    "\n",
    "    for i in range(len(detections)):\n",
    "        row = detections[i]\n",
    "        confidence = row[4] # confidence of detecting license plate\n",
    "        if confidence > 0.4:\n",
    "            class_score = row[5] # probability score of license plate\n",
    "            if class_score > 0.25:\n",
    "                cx, cy, w, h = row[0:4]\n",
    "\n",
    "                left = int((cx - 0.5 * w) * x_factor)\n",
    "                top = int((cy - 0.5 * h) * y_factor)\n",
    "                width = int(w * x_factor)\n",
    "                height = int(h * y_factor)\n",
    "                box = np.array([left, top, width, height])\n",
    "\n",
    "                confidences.append(confidence)\n",
    "                boxes.append(box)\n",
    "\n",
    "    # clean\n",
    "    boxes_np = np.array(boxes).tolist()\n",
    "    confidences_np = np.array(confidences).tolist()\n",
    "    # non maximum suppression\n",
    "    index = cv2.dnn.NMSBoxes(boxes_np,confidences_np, 0.25, 0.45).flatten()\n",
    "    \n",
    "    return boxes_np, confidences_np, index\n",
    "\n",
    "def drawings(image, boxes_np, confidences_np, index):\n",
    "    # drawings\n",
    "    for ind in index:\n",
    "        x, y, w, h =  boxes_np[ind]\n",
    "        bb_conf = confidences_np[ind]\n",
    "        conf_text = 'plate: {:.0f}%'.format(bb_conf * 100)\n",
    "        license_text = extract_text(image, boxes_np[ind])\n",
    "\n",
    "\n",
    "        cv2.rectangle(image, (x, y), (x + w, y + h), (255, 0, 255), 2)\n",
    "        cv2.rectangle(image, (x, y - 30), (x + w, y), (255, 0, 255), -1)\n",
    "        cv2.rectangle(image, (x, y + h), (x + w, y + h + 30), (0, 0, 0), -1)\n",
    "\n",
    "\n",
    "        cv2.putText(image, conf_text, (x, y - 10), cv2.FONT_HERSHEY_SIMPLEX, 0.7, (255, 255, 255), 1)\n",
    "        cv2.putText(image, license_text, (x, y + h + 27), cv2.FONT_HERSHEY_SIMPLEX, 0.7, (0, 255, 0), 1)\n",
    "\n",
    "    return image"
   ]
  },
  {
   "cell_type": "code",
   "execution_count": 7,
   "id": "f536e37e",
   "metadata": {},
   "outputs": [],
   "source": [
    "# Predictions\n",
    "def yolo_predictions(img,net):\n",
    "    # Detections\n",
    "    input_image, detections = get_detections(img,net)\n",
    "    # Non maximum supression\n",
    "    boxes_np, confidences_np, index = non_maximum_supression(input_image, detections)\n",
    "    # Drawings\n",
    "    result_img = drawings(img, boxes_np, confidences_np, index)\n",
    "    return result_img"
   ]
  },
  {
   "cell_type": "code",
   "execution_count": 8,
   "id": "7c6cbfd8",
   "metadata": {},
   "outputs": [],
   "source": [
    "def extract_text(image,bbox):\n",
    "    x, y, w, h = bbox\n",
    "    roi = image[y : y + h, x : x + w]\n",
    "    \n",
    "    if 0 in roi.shape:\n",
    "        return ''\n",
    "    \n",
    "    else:\n",
    "        text = pt.image_to_string(roi)\n",
    "        text = text.strip()\n",
    "        \n",
    "        return text"
   ]
  },
  {
   "cell_type": "code",
   "execution_count": 9,
   "id": "a4ea6d7c",
   "metadata": {},
   "outputs": [],
   "source": [
    "pt.pytesseract.tesseract_cmd = r'C:\\Program Files\\Tesseract-OCR\\tesseract.exe'\n",
    "\n",
    "# test\n",
    "img = cv2.imread('./test_images/4940_6-IMG_5905.jpg')\n",
    "\n",
    "results = yolo_predictions(img, net)"
   ]
  },
  {
   "cell_type": "code",
   "execution_count": 10,
   "id": "ccaf271d",
   "metadata": {},
   "outputs": [],
   "source": [
    "cv2.namedWindow('results', cv2.WINDOW_KEEPRATIO)\n",
    "cv2.imshow('results', results)\n",
    "cv2.waitKey()\n",
    "cv2.destroyAllWindows()"
   ]
  },
  {
   "cell_type": "markdown",
   "id": "d89ed4c5",
   "metadata": {},
   "source": [
    "### Real Time Object Detection"
   ]
  },
  {
   "cell_type": "code",
   "execution_count": 11,
   "id": "f24ea4a0",
   "metadata": {},
   "outputs": [
    {
     "name": "stdout",
     "output_type": "stream",
     "text": [
      "ERROR: Unable to read video!\n"
     ]
    }
   ],
   "source": [
    "cap = cv2.VideoCapture('./test_images/Ghi nhận tình hình giao thông cửa ngõ Thủ đô đầu giờ chiều 28 Tết.mp4')\n",
    "\n",
    "\n",
    "while True:\n",
    "    ret, frame = cap.read()\n",
    "    \n",
    "    if ret == False:\n",
    "        print('ERROR: Unable to read video!')\n",
    "        break\n",
    "        \n",
    "    results = yolo_predictions(frame, net)\n",
    "    \n",
    "    cv2.namedWindow('LPR of team 11', cv2.WINDOW_KEEPRATIO)\n",
    "    cv2.imshow('LPR of team 11', results)\n",
    "    if cv2.waitKey(1) == 27:\n",
    "        break\n",
    "        \n",
    "cv2.destroyAllWindows()\n",
    "cap.release()"
   ]
  }
 ],
 "metadata": {
  "kernelspec": {
   "display_name": "projectAI",
   "language": "python",
   "name": "python3"
  },
  "language_info": {
   "codemirror_mode": {
    "name": "ipython",
    "version": 3
   },
   "file_extension": ".py",
   "mimetype": "text/x-python",
   "name": "python",
   "nbconvert_exporter": "python",
   "pygments_lexer": "ipython3",
   "version": "3.7.16"
  },
  "vscode": {
   "interpreter": {
    "hash": "450407324f4621f6be6970f93ac8f78c91ad22d2ba1d4f853044b76a4db976dc"
   }
  }
 },
 "nbformat": 4,
 "nbformat_minor": 5
}
